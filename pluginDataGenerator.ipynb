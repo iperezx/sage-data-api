{
 "cells": [
  {
   "cell_type": "code",
   "execution_count": 1,
   "id": "exceptional-distance",
   "metadata": {},
   "outputs": [],
   "source": [
    "import json,sys\n",
    "import pandas as pd\n",
    "from datetime import datetime\n",
    "import random"
   ]
  },
  {
   "cell_type": "code",
   "execution_count": 2,
   "id": "forward-nickel",
   "metadata": {},
   "outputs": [
    {
     "name": "stdout",
     "output_type": "stream",
     "text": [
      "{\n",
      "    \"timestamp\": null,\n",
      "    \"name\": null,\n",
      "    \"value\": null,\n",
      "    \"metadata\": {\n",
      "        \"node\": null,\n",
      "        \"host\": null,\n",
      "        \"plugin\": null,\n",
      "        \"camera\": null\n",
      "    }\n",
      "}\n"
     ]
    }
   ],
   "source": [
    "def getPluginTemplate():\n",
    "    keys = ['timestamp','name','value','metadata']\n",
    "    metadataKeys = ['node','host','plugin','camera']\n",
    "    dataAPISchema = dict.fromkeys(keys)\n",
    "    dataAPISchema['metadata'] = dict.fromkeys(metadataKeys)\n",
    "    return dataAPISchema\n",
    "\n",
    "template = getPluginTemplate()\n",
    "print(json.dumps(template, indent=4))\n"
   ]
  },
  {
   "cell_type": "code",
   "execution_count": 3,
   "id": "lesbian-insured",
   "metadata": {},
   "outputs": [
    {
     "data": {
      "text/plain": [
       "DatetimeIndex(['2021-04-01 00:00:00-07:00', '2021-04-01 01:00:00-07:00',\n",
       "               '2021-04-01 02:00:00-07:00', '2021-04-01 03:00:00-07:00',\n",
       "               '2021-04-01 04:00:00-07:00', '2021-04-01 05:00:00-07:00',\n",
       "               '2021-04-01 06:00:00-07:00', '2021-04-01 07:00:00-07:00',\n",
       "               '2021-04-01 08:00:00-07:00', '2021-04-01 09:00:00-07:00',\n",
       "               ...\n",
       "               '2021-04-13 15:00:00-07:00', '2021-04-13 16:00:00-07:00',\n",
       "               '2021-04-13 17:00:00-07:00', '2021-04-13 18:00:00-07:00',\n",
       "               '2021-04-13 19:00:00-07:00', '2021-04-13 20:00:00-07:00',\n",
       "               '2021-04-13 21:00:00-07:00', '2021-04-13 22:00:00-07:00',\n",
       "               '2021-04-13 23:00:00-07:00', '2021-04-14 00:00:00-07:00'],\n",
       "              dtype='datetime64[ns, US/Pacific]', length=313, freq='H')"
      ]
     },
     "execution_count": 3,
     "metadata": {},
     "output_type": "execute_result"
    }
   ],
   "source": [
    "strDate = '4/1/2021'\n",
    "endDate = '4/14/2021'\n",
    "freq = 'H'# T:minute,H:hourly,D:daily,\n",
    "dateIndex = pd.date_range(start=strDate, end=endDate, freq=freq,tz='US/Pacific')\n",
    "dateIndex"
   ]
  },
  {
   "cell_type": "code",
   "execution_count": 5,
   "id": "oriental-gallery",
   "metadata": {},
   "outputs": [],
   "source": [
    "randomGenList = []\n",
    "name = 'env.temperature.gen'\n",
    "plugin = 'metsense:1.0.2'\n",
    "for date in dateIndex:\n",
    "    template = getPluginTemplate()\n",
    "    template['timestamp']\n",
    "    template['name'] = name\n",
    "    template['value'] = random.random()\n",
    "    template['timestamp'] = pd.Timestamp(date).tz_convert('utc').strftime('%Y-%m-%dT%H:%M:%SZ')\n",
    "    template['metadata']['node'] = str(random.randint(1,5)).zfill(16)\n",
    "    template['metadata']['plugin'] = plugin\n",
    "    randomGenList.append(template)"
   ]
  },
  {
   "cell_type": "code",
   "execution_count": 6,
   "id": "portable-event",
   "metadata": {},
   "outputs": [
    {
     "data": {
      "text/html": [
       "<div>\n",
       "<style scoped>\n",
       "    .dataframe tbody tr th:only-of-type {\n",
       "        vertical-align: middle;\n",
       "    }\n",
       "\n",
       "    .dataframe tbody tr th {\n",
       "        vertical-align: top;\n",
       "    }\n",
       "\n",
       "    .dataframe thead th {\n",
       "        text-align: right;\n",
       "    }\n",
       "</style>\n",
       "<table border=\"1\" class=\"dataframe\">\n",
       "  <thead>\n",
       "    <tr style=\"text-align: right;\">\n",
       "      <th></th>\n",
       "      <th>timestamp</th>\n",
       "      <th>name</th>\n",
       "      <th>value</th>\n",
       "      <th>metadata</th>\n",
       "    </tr>\n",
       "  </thead>\n",
       "  <tbody>\n",
       "    <tr>\n",
       "      <th>0</th>\n",
       "      <td>2021-04-01T07:00:00Z</td>\n",
       "      <td>env.temperature.gen</td>\n",
       "      <td>0.004960</td>\n",
       "      <td>{'node': '0000000000000005', 'host': None, 'pl...</td>\n",
       "    </tr>\n",
       "    <tr>\n",
       "      <th>1</th>\n",
       "      <td>2021-04-01T08:00:00Z</td>\n",
       "      <td>env.temperature.gen</td>\n",
       "      <td>0.242569</td>\n",
       "      <td>{'node': '0000000000000002', 'host': None, 'pl...</td>\n",
       "    </tr>\n",
       "    <tr>\n",
       "      <th>2</th>\n",
       "      <td>2021-04-01T09:00:00Z</td>\n",
       "      <td>env.temperature.gen</td>\n",
       "      <td>0.288005</td>\n",
       "      <td>{'node': '0000000000000005', 'host': None, 'pl...</td>\n",
       "    </tr>\n",
       "    <tr>\n",
       "      <th>3</th>\n",
       "      <td>2021-04-01T10:00:00Z</td>\n",
       "      <td>env.temperature.gen</td>\n",
       "      <td>0.108682</td>\n",
       "      <td>{'node': '0000000000000004', 'host': None, 'pl...</td>\n",
       "    </tr>\n",
       "    <tr>\n",
       "      <th>4</th>\n",
       "      <td>2021-04-01T11:00:00Z</td>\n",
       "      <td>env.temperature.gen</td>\n",
       "      <td>0.689458</td>\n",
       "      <td>{'node': '0000000000000004', 'host': None, 'pl...</td>\n",
       "    </tr>\n",
       "    <tr>\n",
       "      <th>...</th>\n",
       "      <td>...</td>\n",
       "      <td>...</td>\n",
       "      <td>...</td>\n",
       "      <td>...</td>\n",
       "    </tr>\n",
       "    <tr>\n",
       "      <th>308</th>\n",
       "      <td>2021-04-14T03:00:00Z</td>\n",
       "      <td>env.temperature.gen</td>\n",
       "      <td>0.247522</td>\n",
       "      <td>{'node': '0000000000000005', 'host': None, 'pl...</td>\n",
       "    </tr>\n",
       "    <tr>\n",
       "      <th>309</th>\n",
       "      <td>2021-04-14T04:00:00Z</td>\n",
       "      <td>env.temperature.gen</td>\n",
       "      <td>0.400678</td>\n",
       "      <td>{'node': '0000000000000002', 'host': None, 'pl...</td>\n",
       "    </tr>\n",
       "    <tr>\n",
       "      <th>310</th>\n",
       "      <td>2021-04-14T05:00:00Z</td>\n",
       "      <td>env.temperature.gen</td>\n",
       "      <td>0.780421</td>\n",
       "      <td>{'node': '0000000000000004', 'host': None, 'pl...</td>\n",
       "    </tr>\n",
       "    <tr>\n",
       "      <th>311</th>\n",
       "      <td>2021-04-14T06:00:00Z</td>\n",
       "      <td>env.temperature.gen</td>\n",
       "      <td>0.101364</td>\n",
       "      <td>{'node': '0000000000000002', 'host': None, 'pl...</td>\n",
       "    </tr>\n",
       "    <tr>\n",
       "      <th>312</th>\n",
       "      <td>2021-04-14T07:00:00Z</td>\n",
       "      <td>env.temperature.gen</td>\n",
       "      <td>0.195076</td>\n",
       "      <td>{'node': '0000000000000003', 'host': None, 'pl...</td>\n",
       "    </tr>\n",
       "  </tbody>\n",
       "</table>\n",
       "<p>313 rows × 4 columns</p>\n",
       "</div>"
      ],
      "text/plain": [
       "                timestamp                 name     value  \\\n",
       "0    2021-04-01T07:00:00Z  env.temperature.gen  0.004960   \n",
       "1    2021-04-01T08:00:00Z  env.temperature.gen  0.242569   \n",
       "2    2021-04-01T09:00:00Z  env.temperature.gen  0.288005   \n",
       "3    2021-04-01T10:00:00Z  env.temperature.gen  0.108682   \n",
       "4    2021-04-01T11:00:00Z  env.temperature.gen  0.689458   \n",
       "..                    ...                  ...       ...   \n",
       "308  2021-04-14T03:00:00Z  env.temperature.gen  0.247522   \n",
       "309  2021-04-14T04:00:00Z  env.temperature.gen  0.400678   \n",
       "310  2021-04-14T05:00:00Z  env.temperature.gen  0.780421   \n",
       "311  2021-04-14T06:00:00Z  env.temperature.gen  0.101364   \n",
       "312  2021-04-14T07:00:00Z  env.temperature.gen  0.195076   \n",
       "\n",
       "                                              metadata  \n",
       "0    {'node': '0000000000000005', 'host': None, 'pl...  \n",
       "1    {'node': '0000000000000002', 'host': None, 'pl...  \n",
       "2    {'node': '0000000000000005', 'host': None, 'pl...  \n",
       "3    {'node': '0000000000000004', 'host': None, 'pl...  \n",
       "4    {'node': '0000000000000004', 'host': None, 'pl...  \n",
       "..                                                 ...  \n",
       "308  {'node': '0000000000000005', 'host': None, 'pl...  \n",
       "309  {'node': '0000000000000002', 'host': None, 'pl...  \n",
       "310  {'node': '0000000000000004', 'host': None, 'pl...  \n",
       "311  {'node': '0000000000000002', 'host': None, 'pl...  \n",
       "312  {'node': '0000000000000003', 'host': None, 'pl...  \n",
       "\n",
       "[313 rows x 4 columns]"
      ]
     },
     "execution_count": 6,
     "metadata": {},
     "output_type": "execute_result"
    }
   ],
   "source": [
    "data = pd.DataFrame(randomGenList)\n",
    "data"
   ]
  },
  {
   "cell_type": "code",
   "execution_count": null,
   "id": "civil-thomson",
   "metadata": {},
   "outputs": [],
   "source": [
    "jsonData = data.to_json(orient='records')\n",
    "jsonData"
   ]
  },
  {
   "cell_type": "code",
   "execution_count": null,
   "id": "middle-culture",
   "metadata": {},
   "outputs": [],
   "source": [
    "data.to_json(orient='records',path_or_buf=r'pluginData.json')"
   ]
  },
  {
   "cell_type": "code",
   "execution_count": null,
   "id": "opened-landing",
   "metadata": {},
   "outputs": [],
   "source": []
  }
 ],
 "metadata": {
  "kernelspec": {
   "display_name": "Python 3",
   "language": "python",
   "name": "python3"
  },
  "language_info": {
   "codemirror_mode": {
    "name": "ipython",
    "version": 3
   },
   "file_extension": ".py",
   "mimetype": "text/x-python",
   "name": "python",
   "nbconvert_exporter": "python",
   "pygments_lexer": "ipython3",
   "version": "3.9.1"
  }
 },
 "nbformat": 4,
 "nbformat_minor": 5
}
